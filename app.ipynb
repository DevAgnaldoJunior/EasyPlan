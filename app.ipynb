{
 "cells": [
  {
   "cell_type": "code",
   "execution_count": 2,
   "metadata": {},
   "outputs": [
    {
     "name": "stdout",
     "output_type": "stream",
     "text": [
      "Atual: 2024-07-08 a 2024-07-14\n",
      "Antiga: 2024-07-01 a 2024-07-07\n"
     ]
    },
    {
     "name": "stderr",
     "output_type": "stream",
     "text": [
      "c:\\Users\\saman\\Documents\\Pastas_Jus_Analise\\Fup_Automatico\\novo_venv\\Lib\\site-packages\\openpyxl\\worksheet\\_reader.py:223: UserWarning: Cell R10361 is marked as a date but the serial value 6948614.0 is outside the limits for dates. The cell will be treated as an error.\n",
      "  warn(msg)\n",
      "c:\\Users\\saman\\Documents\\Pastas_Jus_Analise\\Fup_Automatico\\novo_venv\\Lib\\site-packages\\openpyxl\\styles\\stylesheet.py:237: UserWarning: Workbook contains no default style, apply openpyxl's default\n",
      "  warn(\"Workbook contains no default style, apply openpyxl's default\")\n",
      "c:\\Users\\saman\\Documents\\Pastas_Jus_Analise\\Fup_Automatico\\novo_venv\\Lib\\site-packages\\openpyxl\\styles\\stylesheet.py:237: UserWarning: Workbook contains no default style, apply openpyxl's default\n",
      "  warn(\"Workbook contains no default style, apply openpyxl's default\")\n",
      "c:\\Users\\saman\\Documents\\Pastas_Jus_Analise\\Fup_Automatico\\novo_venv\\Lib\\site-packages\\openpyxl\\styles\\stylesheet.py:237: UserWarning: Workbook contains no default style, apply openpyxl's default\n",
      "  warn(\"Workbook contains no default style, apply openpyxl's default\")\n"
     ]
    }
   ],
   "source": [
    "import pandas as pd\n",
    "import base64\n",
    "import json\n",
    "\n",
    "# Carregar dados do arquivo JSON\n",
    "with open('dados.json', 'r') as f:\n",
    "    config = json.load(f)\n",
    "\n",
    "# Acessar as variáveis\n",
    "data_inicio = config.get('data_inicio')\n",
    "data_fim = config.get('data_fim')\n",
    "data_inicio_antiga = config.get('data_inicio_antiga')\n",
    "data_fim_antiga = config.get('data_fim_antiga')\n",
    "print(f\"Atual: {data_inicio} a {data_fim}\")  \n",
    "print(f\"Antiga: {data_inicio_antiga} a {data_fim_antiga}\")  \n",
    "\n",
    "# Processar arquivos\n",
    "if 'tabela' in config['files']:\n",
    "    tabela = pd.read_excel(pd.io.common.BytesIO(base64.b64decode(config['files']['tabela'])))\n",
    "    #print(tabela.head(1))\n",
    "\n",
    "if 'tabela_projecao' in config['files']:\n",
    "    tabela_projecao = pd.read_excel(pd.io.common.BytesIO(base64.b64decode(config['files']['tabela_projecao'])))\n",
    "    #print(tabela_projecao.head(1))\n",
    "\n",
    "if 'credenciais' in config['files']:\n",
    "    credenciais_utilizadas = pd.read_excel(pd.io.common.BytesIO(base64.b64decode(config['files']['credenciais'])))\n",
    "    #print(credenciais_utilizadas.head(1))\n",
    "\n",
    "if 'report' in config['files']:\n",
    "    report_de_uso = pd.read_excel(pd.io.common.BytesIO(base64.b64decode(config['files']['report'])))\n",
    "    #print(report_de_uso.head(1))\n"
   ]
  },
  {
   "cell_type": "markdown",
   "metadata": {},
   "source": [
    "○ Quantidade de credenciais"
   ]
  },
  {
   "cell_type": "code",
   "execution_count": 3,
   "metadata": {},
   "outputs": [
    {
     "name": "stdout",
     "output_type": "stream",
     "text": [
      "● No período analisado, utilizamos 9537 credenciais diferentes (únicas) \n"
     ]
    }
   ],
   "source": [
    "credenciais_utilizadas_df = pd.DataFrame(credenciais_utilizadas)\n",
    "\n",
    "# Somar todos os números na coluna \"number_of_credentials\"\n",
    "total_credenciais = credenciais_utilizadas_df['number_of_credentials'].sum()\n",
    "\n",
    "\n",
    "\n",
    "\n",
    "print(f'● No período analisado, utilizamos {total_credenciais} credenciais diferentes (únicas) ')"
   ]
  },
  {
   "cell_type": "code",
   "execution_count": 4,
   "metadata": {},
   "outputs": [
    {
     "name": "stdout",
     "output_type": "stream",
     "text": [
      "● 283 credenciais diferentes receberam alerta BLOCKED pelo KM, representando 2.97 do total de credenciais utilizadas\n"
     ]
    }
   ],
   "source": [
    "#Converte a coluna \"Data de bloqueio\" para o tipo datetime\n",
    "tabela['Data do bloqueio'] = pd.to_datetime(tabela['Data do bloqueio'], format='%d/%m/%Y')\n",
    "\n",
    "# Filtre o DataFrame para o intervalo de datas\n",
    "tabela_filtrada = tabela[(tabela['Data do bloqueio'] >= data_inicio) & (tabela['Data do bloqueio'] <= data_fim)]\n",
    "tabela_filtrada = pd.DataFrame(tabela_filtrada)\n",
    "\n",
    "# Remover duplicatas na coluna \"ID Credencial\"\n",
    "tabela_unica = tabela_filtrada.drop_duplicates(subset='ID Credencial')\n",
    "\n",
    "# Obter a quantidade de linhas únicas\n",
    "quantidade_linhas_unicas = tabela_unica.shape[0]\n",
    "\n",
    "porcentagem_credenciais = round((quantidade_linhas_unicas*100)/total_credenciais, 2)\n",
    "\n",
    "# Exibir o resultado\n",
    "print(f'● {quantidade_linhas_unicas} credenciais diferentes receberam alerta BLOCKED pelo KM, representando {porcentagem_credenciais} do total de credenciais utilizadas')"
   ]
  },
  {
   "cell_type": "code",
   "execution_count": 5,
   "metadata": {},
   "outputs": [
    {
     "name": "stdout",
     "output_type": "stream",
     "text": [
      "● 93 domains requisitaram credenciais\n"
     ]
    }
   ],
   "source": [
    "quantidade_linhas_domains = credenciais_utilizadas_df['domain_alias'].count()\n",
    "\n",
    "\n",
    "print(f\"● {quantidade_linhas_domains} domains requisitaram credenciais\")"
   ]
  },
  {
   "cell_type": "code",
   "execution_count": 6,
   "metadata": {},
   "outputs": [
    {
     "name": "stdout",
     "output_type": "stream",
     "text": [
      "Domain aliases com os maiores valores de number_of_credentials:\n",
      "    domain_alias  number_of_credentials\n",
      "0     TJSC-EPROC                    640\n",
      "1   TJSP-ESAJ-1G                    509\n",
      "2       TRT4-PJE                    489\n",
      "3      TRT15-PJE                    483\n",
      "4    TJMG-PJE-1G                    443\n",
      "5    TJMG-PJE-2G                    422\n",
      "6      TRT10-PJE                    421\n",
      "7  TJTO-EPROC-2G                    384\n",
      "8       TRT6-PJE                    384\n",
      "9  TJTO-EPROC-1G                    376\n"
     ]
    }
   ],
   "source": [
    "# Filtrar os 3 maiores valores na coluna \"number_of_credentials\"\n",
    "n_maiores = 10\n",
    "maiores_credentials = credenciais_utilizadas_df.nlargest(n_maiores, 'number_of_credentials')\n",
    "\n",
    "# Selecionar as colunas \"domain_alias\" e \"number_of_credentials\"\n",
    "resultado = maiores_credentials[['domain_alias', 'number_of_credentials']]\n",
    "\n",
    "# Exibir o resultado\n",
    "print('Domain aliases com os maiores valores de number_of_credentials:')\n",
    "print(resultado)"
   ]
  },
  {
   "cell_type": "markdown",
   "metadata": {},
   "source": [
    "○ Buscas e sessões"
   ]
  },
  {
   "cell_type": "code",
   "execution_count": 7,
   "metadata": {},
   "outputs": [
    {
     "name": "stdout",
     "output_type": "stream",
     "text": [
      "● Nossos robôs buscaram 70110 vezes por credenciais e com elas realizaram 2652081 sessões de uso para o período analisado [ref]\n"
     ]
    }
   ],
   "source": [
    "report_de_uso_df = pd.DataFrame(report_de_uso)\n",
    "total_buscas = report_de_uso_df['credential_count'].sum()\n",
    "\n",
    "total_realizadas = report_de_uso_df['report_count'].sum()\n",
    "\n",
    "\n",
    "\n",
    "\n",
    "\n",
    "print(f\"● Nossos robôs buscaram {total_buscas} vezes por credenciais e com elas realizaram {total_realizadas} sessões de uso para o período analisado [ref]\")\n"
   ]
  },
  {
   "cell_type": "code",
   "execution_count": 8,
   "metadata": {},
   "outputs": [
    {
     "name": "stdout",
     "output_type": "stream",
     "text": [
      "○ 2401238 sessões tiveram sucesso, correspondendo a 90.54 do total\n"
     ]
    }
   ],
   "source": [
    "# Filtrar o DataFrame para manter apenas as linhas onde o status é 'success'\n",
    "filtrado_success = report_de_uso_df[report_de_uso_df['status'] == 'success']\n",
    "\n",
    "total_buscas_success = filtrado_success['report_count'].sum()\n",
    "\n",
    "relação_ao_total_success= round((total_buscas_success*100)/ total_realizadas, 2)\n",
    "\n",
    "print(f\"○ {total_buscas_success} sessões tiveram sucesso, correspondendo a {relação_ao_total_success} do total\")"
   ]
  },
  {
   "cell_type": "code",
   "execution_count": 9,
   "metadata": {},
   "outputs": [
    {
     "name": "stdout",
     "output_type": "stream",
     "text": [
      "○ 250843 sessões tiveram erros, correspondendo a 9.46 do total.\n"
     ]
    }
   ],
   "source": [
    "filtrado_error = report_de_uso_df[\n",
    "    (report_de_uso_df['status'] == 'error') | \n",
    "    (report_de_uso_df['status'] == 'two_factor_error')\n",
    "]\n",
    "\n",
    "total_buscas_error = filtrado_error['report_count'].sum()\n",
    "relação_ao_total_error = round((total_buscas_error*100)/ total_realizadas, 2)\n",
    "\n",
    "print(f\"○ {total_buscas_error} sessões tiveram erros, correspondendo a {relação_ao_total_error} do total.\")"
   ]
  },
  {
   "cell_type": "code",
   "execution_count": 10,
   "metadata": {},
   "outputs": [
    {
     "name": "stdout",
     "output_type": "stream",
     "text": [
      "■ Dessas sessões com erro, tivemos 0 sessões com erro no 2FA para:\n"
     ]
    }
   ],
   "source": [
    "filtrado_two_factor = report_de_uso_df[report_de_uso_df['status'] == 'two_factor_error']\n",
    "\n",
    "total_buscas_two_factor = filtrado_two_factor['report_count'].sum()\n",
    "\n",
    "\n",
    "\n",
    "\n",
    "print(f\"■ Dessas sessões com erro, tivemos {total_buscas_two_factor} sessões com erro no 2FA para:\")"
   ]
  },
  {
   "cell_type": "code",
   "execution_count": 11,
   "metadata": {},
   "outputs": [
    {
     "name": "stdout",
     "output_type": "stream",
     "text": [
      "Series([], Name: domain_alias, dtype: object)\n"
     ]
    }
   ],
   "source": [
    "filtrado_two_factor_pd = pd.DataFrame(filtrado_two_factor)\n",
    "\n",
    "# Listar todos os valores da coluna \"domain_alias\"\n",
    "valores_domain_alias = filtrado_two_factor_pd['domain_alias'].drop_duplicates()\n",
    "\n",
    "\n",
    "print(valores_domain_alias)\n"
   ]
  },
  {
   "cell_type": "code",
   "execution_count": 12,
   "metadata": {},
   "outputs": [
    {
     "name": "stdout",
     "output_type": "stream",
     "text": [
      "■ Tivemos 361 alertas BLOCKED de credenciais realizados pelo KM [ref]\n"
     ]
    }
   ],
   "source": [
    "quantidade_linhas_blocked = len(tabela_filtrada)\n",
    "\n",
    "print(f\"■ Tivemos {quantidade_linhas_blocked} alertas BLOCKED de credenciais realizados pelo KM [ref]\")"
   ]
  },
  {
   "cell_type": "code",
   "execution_count": 13,
   "metadata": {},
   "outputs": [
    {
     "name": "stdout",
     "output_type": "stream",
     "text": [
      "■ O volume de credenciais com alerta BLOCKED representa 0.51 do volume total de buscas por credenciais utilizadas para o período\n"
     ]
    }
   ],
   "source": [
    "relação_blocked_total = round((quantidade_linhas_blocked*100)/total_buscas,2)\n",
    "\n",
    "\n",
    "print(f\"■ O volume de credenciais com alerta BLOCKED representa {relação_blocked_total} do volume total de buscas por credenciais utilizadas para o período\")"
   ]
  },
  {
   "cell_type": "markdown",
   "metadata": {},
   "source": [
    "TRIBUNAIS PRIORITÁRIOS"
   ]
  },
  {
   "cell_type": "code",
   "execution_count": 14,
   "metadata": {},
   "outputs": [
    {
     "name": "stdout",
     "output_type": "stream",
     "text": [
      "● Os 10 tribunais prioritários quanto à projeção de coleta [ref], para o período, foram:\n",
      "  environment   database_table  delta_credential_need\n",
      "0   JUSBRASIL      TJMG-PJE-2G                    396\n",
      "1   JUSBRASIL         TRT2-PJE                    238\n",
      "2   JUSBRASIL      TJDF-PJE-1G                    184\n",
      "3   JUSBRASIL  TJPR-PROJUDI-1G                    151\n",
      "4   JUSBRASIL  TJMG-PROJUDI-1G                     72\n",
      "5   JUSBRASIL         TRT5-PJE                     64\n",
      "6   JUSBRASIL         TRT7-PJE                     34\n",
      "7   JUSBRASIL      TJDF-PJE-2G                     31\n",
      "8   JUSBRASIL        TRT13-PJE                     19\n",
      "9   JUSBRASIL      TST-PROP-2G                     18\n"
     ]
    }
   ],
   "source": [
    "acompanhamento_de_projecao = pd.DataFrame(tabela_projecao)\n",
    "\n",
    "# Filtrar as 3 maiores linhas da coluna \"delta_credential_need\"\n",
    "n_maiores = 10\n",
    "maiores_delta = acompanhamento_de_projecao.nlargest(n_maiores, 'delta_credential_need')[['environment', 'database_table', 'delta_credential_need']]\n",
    "\n",
    "\n",
    "\n",
    "print(f\"● Os 10 tribunais prioritários quanto à projeção de coleta [ref], para o período, foram:\")\n",
    "print(maiores_delta)"
   ]
  },
  {
   "cell_type": "markdown",
   "metadata": {},
   "source": [
    "CAPACIDADE DE USO"
   ]
  },
  {
   "cell_type": "code",
   "execution_count": 15,
   "metadata": {},
   "outputs": [
    {
     "name": "stdout",
     "output_type": "stream",
     "text": [
      "●\tTribunais que faltaram credenciais e quantas precisávamos para atender a demanda de Coletas:\n",
      "○            Tribunal       Pool  Tínhamos  Precisávamos\n",
      "0       TJMG-PJE-2G  JUSBRASIL      38.0           396\n",
      "1          TRT2-PJE  JUSBRASIL       3.0           238\n",
      "2       TJDF-PJE-1G  JUSBRASIL      26.0           184\n",
      "3   TJPR-PROJUDI-1G  JUSBRASIL      26.0           151\n",
      "4   TJMG-PROJUDI-1G  JUSBRASIL       2.0            72\n",
      "5          TRT5-PJE  JUSBRASIL       2.0            64\n",
      "6          TRT7-PJE  JUSBRASIL       3.0            34\n",
      "7       TJDF-PJE-2G  JUSBRASIL      46.0            31\n",
      "8         TRT13-PJE  JUSBRASIL       1.0            19\n",
      "9       TST-PROP-2G  JUSBRASIL       2.0            18\n",
      "10         TRT2-PJE    DIGESTO      15.0            14\n",
      "11        TRT11-PJE  JUSBRASIL       1.0            14\n",
      "12      TRF1-PJE-1G    DIGESTO       1.0             3\n",
      "13         TRT7-PJE    DIGESTO       1.0             1\n"
     ]
    },
    {
     "name": "stderr",
     "output_type": "stream",
     "text": [
      "C:\\Users\\saman\\AppData\\Local\\Temp\\ipykernel_22280\\2624466323.py:7: SettingWithCopyWarning: \n",
      "A value is trying to be set on a copy of a slice from a DataFrame\n",
      "\n",
      "See the caveats in the documentation: https://pandas.pydata.org/pandas-docs/stable/user_guide/indexing.html#returning-a-view-versus-a-copy\n",
      "  filtrado_colunas.rename(columns={\n"
     ]
    }
   ],
   "source": [
    "# Filtrar apenas as linhas onde delta_credential_need é maior que 0\n",
    "filtrado_delta_maior_que_zero = acompanhamento_de_projecao[acompanhamento_de_projecao['delta_credential_need'] > 0]\n",
    "\n",
    "filtrado_colunas = filtrado_delta_maior_que_zero[['database_table', 'environment', 'number_of_credentials', 'delta_credential_need']]\n",
    "\n",
    "# Renomear as colunas\n",
    "filtrado_colunas.rename(columns={\n",
    "    'database_table': 'Tribunal',\n",
    "    'environment': 'Pool',\n",
    "    'number_of_credentials': 'Tínhamos',\n",
    "    'delta_credential_need': 'Precisávamos'\n",
    "}, inplace=True)\n",
    "\n",
    "print(f\"●\tTribunais que faltaram credenciais e quantas precisávamos para atender a demanda de Coletas:\")\n",
    "print(f\"○ {filtrado_colunas}\")"
   ]
  },
  {
   "cell_type": "code",
   "execution_count": 16,
   "metadata": {},
   "outputs": [
    {
     "name": "stdout",
     "output_type": "stream",
     "text": [
      "● Tribunais com credenciais ociosas*\n",
      "            Tribunal       Pool\n",
      "18       STF-PROP-2G  JUSBRASIL\n",
      "24      TJCE-ESAJ-1G  JUSBRASIL\n",
      "26       TRF3-PJE-2G  JUSBRASIL\n",
      "27       TRF3-PJE-1G  JUSBRASIL\n",
      "30       TST-PROP-2G    DIGESTO\n",
      "31     TRF6-EPROC-1G  JUSBRASIL\n",
      "32     TRF6-EPROC-2G  JUSBRASIL\n",
      "36     TRF4-EPROC-2G    DIGESTO\n",
      "37     TRF2-EPROC-2G    DIGESTO\n",
      "39      TJCE-ESAJ-1G    DIGESTO\n",
      "42        TST-PJE-2G    DIGESTO\n",
      "43      TJAL-ESAJ-1G    DIGESTO\n",
      "48      TJAC-ESAJ-1G    DIGESTO\n",
      "50       TJBA-PJE-1G    DIGESTO\n",
      "52       TJMA-PJE-2G    DIGESTO\n",
      "53       TJPE-PJE-1G    DIGESTO\n",
      "59       TJCE-PJE-2G  JUSBRASIL\n",
      "60       TJCE-PJE-1G  JUSBRASIL\n",
      "61     TRF6-EPROC-2G    DIGESTO\n",
      "62     TRF6-EPROC-1G    DIGESTO\n",
      "63       TJPE-PJE-2G    DIGESTO\n",
      "66       TJAP-PJE-2G    DIGESTO\n",
      "67       TJES-PJE-2G    DIGESTO\n",
      "68       TJAP-PJE-1G    DIGESTO\n",
      "70       TJPB-PJE-1G    DIGESTO\n",
      "72       TJMA-PJE-1G    DIGESTO\n",
      "74       TJPA-PJE-1G    DIGESTO\n",
      "78       TJPB-PJE-2G    DIGESTO\n",
      "79       TJRN-PJE-1G    DIGESTO\n",
      "80       TJES-PJE-1G    DIGESTO\n",
      "81       TJBA-PJE-2G    DIGESTO\n",
      "82   TJGO-PROJUDI-1G    DIGESTO\n",
      "83       TJMT-PJE-2G    DIGESTO\n",
      "84       TJPA-PJE-2G    DIGESTO\n",
      "86       TRF6-PJE-1G    DIGESTO\n",
      "87       TRF6-PJE-2G    DIGESTO\n",
      "88       TJRN-PJE-2G    DIGESTO\n",
      "89       TRF3-PJE-2G    DIGESTO\n",
      "90       TRF3-PJE-1G    DIGESTO\n",
      "94   TRF5-PJE-JEF-2G    DIGESTO\n",
      "95       TJPI-PJE-2G    DIGESTO\n",
      "97       TJRO-PJE-1G    DIGESTO\n",
      "98       TJRO-PJE-2G    DIGESTO\n",
      "107     TJAP-PROP-1G    DIGESTO\n",
      "111        TRT16-PJE    DIGESTO\n",
      "117        TRT20-PJE    DIGESTO\n"
     ]
    }
   ],
   "source": [
    "filtrado_ociosas = acompanhamento_de_projecao[\n",
    "    (acompanhamento_de_projecao['number_of_credentials'] > 0) & \n",
    "    (acompanhamento_de_projecao['credential_total_need'] == 0)\n",
    "]\n",
    "filtrado_ociosas_df = pd.DataFrame(filtrado_ociosas)\n",
    "\n",
    "filtrado_ociosas_df.rename(columns={\n",
    "    'database_table': 'Tribunal',\n",
    "    'environment': 'Pool'\n",
    "}, inplace=True)\n",
    "\n",
    "filtrado_ociosas_df_columns = filtrado_ociosas_df[['Tribunal', 'Pool']]\n",
    "\n",
    "print(\"● Tribunais com credenciais ociosas*\")\n",
    "print(filtrado_ociosas_df_columns)"
   ]
  },
  {
   "cell_type": "code",
   "execution_count": null,
   "metadata": {},
   "outputs": [],
   "source": []
  },
  {
   "cell_type": "code",
   "execution_count": null,
   "metadata": {},
   "outputs": [],
   "source": []
  },
  {
   "cell_type": "markdown",
   "metadata": {},
   "source": [
    "CHECAGEM DE ALERTAS BLOCKED"
   ]
  },
  {
   "cell_type": "markdown",
   "metadata": {},
   "source": [
    "○ Quantidade de alertas para o período de tempo determinado"
   ]
  },
  {
   "cell_type": "code",
   "execution_count": 17,
   "metadata": {},
   "outputs": [
    {
     "name": "stdout",
     "output_type": "stream",
     "text": [
      "Registramos 361 alertas BLOCKED para o período de 2024-07-08 a 2024-07-14\n"
     ]
    }
   ],
   "source": [
    "# Converte a coluna \"Data de bloqueio\" para o tipo datetime\n",
    "tabela['Data do bloqueio'] = pd.to_datetime(tabela['Data do bloqueio'], format='%d/%m/%Y')\n",
    "\n",
    "# Filtre o DataFrame para o intervalo de datas\n",
    "tabela_filtrada = tabela[(tabela['Data do bloqueio'] >= data_inicio) & (tabela['Data do bloqueio'] <= data_fim)]\n",
    "\n",
    "# Obtenha a quantidade de linhas no DataFrame filtrado\n",
    "qtd_bloqueios_atual = len(tabela_filtrada)\n",
    "\n",
    "# Certifique-se de que data_inicio e data_fim sejam do tipo datetime\n",
    "data_inicio = pd.to_datetime(data_inicio)\n",
    "data_fim = pd.to_datetime(data_fim)\n",
    "\n",
    "# Use .date() apenas após a conversão para datetime\n",
    "print(f'Registramos {qtd_bloqueios_atual} alertas BLOCKED para o período de {data_inicio.date()} a {data_fim.date()}')\n"
   ]
  },
  {
   "cell_type": "markdown",
   "metadata": {},
   "source": [
    "○ Filtrando os bloqueios da semana anterior para comparação"
   ]
  },
  {
   "cell_type": "code",
   "execution_count": 18,
   "metadata": {},
   "outputs": [
    {
     "name": "stdout",
     "output_type": "stream",
     "text": [
      "Quantidade de bloqueios da semana passada: 172\n"
     ]
    }
   ],
   "source": [
    "#Filtrando os bloqueios da semana anterior para comparação\n",
    "\n",
    "# Filtre o DataFrame para o intervalo de datas\n",
    "tabela_filtrada_antiga = tabela[(tabela['Data do bloqueio'] >= data_inicio_antiga) & (tabela['Data do bloqueio'] <= data_fim_antiga)]\n",
    "\n",
    "\n",
    "qtd_bloqueios_semana_anterior = len(tabela_filtrada_antiga)\n",
    "\n",
    "print(f'Quantidade de bloqueios da semana passada: {qtd_bloqueios_semana_anterior}')\n",
    "\n"
   ]
  },
  {
   "cell_type": "markdown",
   "metadata": {},
   "source": [
    "○ Comparação com a semana anterior"
   ]
  },
  {
   "cell_type": "code",
   "execution_count": 19,
   "metadata": {},
   "outputs": [
    {
     "name": "stdout",
     "output_type": "stream",
     "text": [
      "Houve aumento de 52.35 em relação à semana anterior, em que tivemos 172 alertas\n"
     ]
    }
   ],
   "source": [
    "\n",
    "#Comparação entre semana anterior e semana Atual\n",
    "if qtd_bloqueios_atual < qtd_bloqueios_semana_anterior:\n",
    "    maior = qtd_bloqueios_semana_anterior\n",
    "    menor= qtd_bloqueios_atual\n",
    "    status = \"redução\"\n",
    "    \n",
    "elif qtd_bloqueios_atual > qtd_bloqueios_semana_anterior:\n",
    "    menor = qtd_bloqueios_semana_anterior\n",
    "    maior= qtd_bloqueios_atual\n",
    "    status = \"aumento\"\n",
    "\n",
    "comparação_entre_semanas = round((maior - menor)/maior*100, 2) #round para formatar em apenas 2 casas decimais\n",
    "\n",
    "print(f'Houve {status} de {comparação_entre_semanas} em relação à semana anterior, em que tivemos {qtd_bloqueios_semana_anterior} alertas')"
   ]
  },
  {
   "cell_type": "markdown",
   "metadata": {},
   "source": [
    "○ Dia com maior número de alertas"
   ]
  },
  {
   "cell_type": "code",
   "execution_count": 20,
   "metadata": {},
   "outputs": [
    {
     "name": "stdout",
     "output_type": "stream",
     "text": [
      "O dia com o maior número de alertas foi: 2024-07-10\n",
      "que contou com 112 alertas de bloqueio reativo\n"
     ]
    }
   ],
   "source": [
    "#Dia com maior numero de alertas\n",
    "# Contar a frequência de cada data\n",
    "frequencia_datas = tabela_filtrada['Data do bloqueio'].value_counts() #value_counts() retorna uma Series com as datas como índices e as contagens como valores.\n",
    "\n",
    "# Encontrar o dia com o maior número de repetições\n",
    "dia_mais_repetido = frequencia_datas.idxmax() #idxmax() retorna o índice (data) com a maior contagem \n",
    "quantidade_repeticoes = frequencia_datas.max() #max() retorna o valor máximo (contagem).\n",
    "\n",
    "print(f'O dia com o maior número de alertas foi: {dia_mais_repetido.date()}')\n",
    "print(f'que contou com {quantidade_repeticoes} alertas de bloqueio reativo')"
   ]
  },
  {
   "cell_type": "markdown",
   "metadata": {},
   "source": [
    "○ Quantidade de alerta internos e externos"
   ]
  },
  {
   "cell_type": "code",
   "execution_count": 21,
   "metadata": {},
   "outputs": [
    {
     "name": "stdout",
     "output_type": "stream",
     "text": [
      "213 alertas para externos e 148 para internos\n"
     ]
    }
   ],
   "source": [
    "#Quantidade de alerta internos e externos\n",
    "contagem_tipos = tabela_filtrada['Tipo Parceiro'].value_counts() #value_counts() retorna uma Series com os valores únicos na coluna e suas respectivas contagens.\n",
    "\n",
    "contagem_interno = contagem_tipos.get('Interno', 0)\n",
    "contagem_externo = contagem_tipos.get('Externo', 0)\n",
    "\n",
    "print(f'{contagem_externo} alertas para externos e {contagem_interno} para internos')"
   ]
  },
  {
   "cell_type": "markdown",
   "metadata": {},
   "source": [
    "○ Alertas para pool Jusbrasil e para pool Digesto"
   ]
  },
  {
   "cell_type": "code",
   "execution_count": 22,
   "metadata": {},
   "outputs": [
    {
     "name": "stdout",
     "output_type": "stream",
     "text": [
      "361 alertas para pool Jusbrasil e 0 para pool Digesto\n"
     ]
    }
   ],
   "source": [
    "# Contar a frequência de cada valor na coluna \"Pool\"\n",
    "contagem_pools = tabela_filtrada['Pool'].value_counts() #value_counts() retorna uma Series com os valores únicos da coluna como índices e suas respectivas contagens como valores.\n",
    "\n",
    "# Contar o número de vezes que 'digesto' aparece\n",
    "contagem_digesto = contagem_pools.get('digesto', 0)\n",
    "\n",
    "# Contar o número de vezes que todos os outros valores aparecem\n",
    "total_outros = contagem_pools.sum() - contagem_digesto\n",
    "\n",
    "print(f'{total_outros} alertas para pool Jusbrasil e {contagem_digesto} para pool Digesto')\n"
   ]
  },
  {
   "cell_type": "markdown",
   "metadata": {},
   "source": [
    "○ Top 3 parceiros com maior número de alertas"
   ]
  },
  {
   "cell_type": "code",
   "execution_count": 23,
   "metadata": {},
   "outputs": [
    {
     "name": "stdout",
     "output_type": "stream",
     "text": [
      "Top 3 parceiros com maior número de alertas:\n",
      "E-mail Parceiro (KM)\n",
      "adv.mrl.ba@gmail.com                   19\n",
      "limasantanadandaradejesus@gmail.com    13\n",
      "dosreiscaio7@gmail.com                 13\n",
      "Name: count, dtype: int64\n"
     ]
    }
   ],
   "source": [
    "#Top 3 parceiros com maior número de alertas\n",
    "# Contar a frequência de cada e-mail na coluna \"E-mail Parceiro (KM)\"\n",
    "contagem_bloqueios = tabela_filtrada['E-mail Parceiro (KM)'].value_counts()\n",
    "\n",
    "# Obter os top 3 e-mails mais frequentes\n",
    "top_3_emails = contagem_bloqueios.head(3) #head(3) retorna os 3 e-mails mais frequentes.\n",
    "\n",
    "# Imprimir os top 3 e-mails e suas contagens\n",
    "print('Top 3 parceiros com maior número de alertas:')\n",
    "print(top_3_emails)\n",
    "\n"
   ]
  },
  {
   "cell_type": "markdown",
   "metadata": {},
   "source": [
    "○ ATIVAS"
   ]
  },
  {
   "cell_type": "code",
   "execution_count": 24,
   "metadata": {},
   "outputs": [
    {
     "name": "stdout",
     "output_type": "stream",
     "text": [
      "269 credenciais apresentaram alerta de bloqueio no KM, mas estavam ativas no tribunal, representando 74.52% do total de reports para o período.\n"
     ]
    }
   ],
   "source": [
    "#ATIVAS\n",
    "quantidade_ativa = tabela_filtrada['Situação da credencial no Tribunal? '].value_counts().get('Ativa', 0) #value_counts() conta o número de vezes que cada valor aparece na coluna. get('Ativa', 0) retorna a contagem de \"Ativa\" ou 0 se \"Ativa\" não estiver presente.\n",
    "\n",
    "total_de_reports = tabela_filtrada['Situação da credencial no Tribunal? '].count()\n",
    "porcentagem = round((quantidade_ativa*100)/total_de_reports,2)\n",
    "\n",
    "\n",
    "print(f'{quantidade_ativa} credenciais apresentaram alerta de bloqueio no KM, mas estavam ativas no tribunal, representando {porcentagem}% do total de reports para o período.')"
   ]
  },
  {
   "cell_type": "markdown",
   "metadata": {},
   "source": [
    "○ COMPARAÇÃO EM RELAÇÃO A SEMANA PASSADA - ATIVAS"
   ]
  },
  {
   "cell_type": "code",
   "execution_count": 25,
   "metadata": {},
   "outputs": [
    {
     "name": "stdout",
     "output_type": "stream",
     "text": [
      "Credenciais ativas atual: 269\n",
      "Credenciais ativas antiga: 71\n",
      "Houve um aumento de 73.61 em relação à semana anterior, em que tivemos 71 situação da credencial no Tribunal = ativa \n"
     ]
    }
   ],
   "source": [
    "#COMPARAÇÃO EM RELAÇÃO A SEMANA PASSADA\n",
    "quantidade_ativa_antiga = tabela_filtrada_antiga['Situação da credencial no Tribunal? '].value_counts().get('Ativa', 0) #value_counts() conta o número de vezes que cada valor aparece na coluna. get('Ativa', 0) retorna a contagem de \"Ativa\" ou 0 se \"Ativa\" não estiver presente.\n",
    "\n",
    "total_de_reports_antigos = tabela_filtrada_antiga['Situação da credencial no Tribunal? '].count()\n",
    "\n",
    "if quantidade_ativa < quantidade_ativa_antiga:\n",
    "    maior = quantidade_ativa_antiga\n",
    "    menor= quantidade_ativa\n",
    "    status_ativas = \"uma redução\"\n",
    "    \n",
    "elif quantidade_ativa > quantidade_ativa_antiga:\n",
    "    menor = quantidade_ativa_antiga\n",
    "    maior= quantidade_ativa\n",
    "    status_ativas = \"um aumento\"\n",
    "\n",
    "\n",
    "comparação_entre_semanas_ativa = round((maior - menor)/maior*100, 2)\n",
    "\n",
    "\n",
    "print(f'Credenciais ativas atual: {quantidade_ativa}')\n",
    "print(f'Credenciais ativas antiga: {quantidade_ativa_antiga}')\n",
    "print(f'Houve {status_ativas} de {comparação_entre_semanas_ativa} em relação à semana anterior, em que tivemos {quantidade_ativa_antiga} situação da credencial no Tribunal = ativa ')\n"
   ]
  },
  {
   "cell_type": "markdown",
   "metadata": {},
   "source": [
    "○ Maiores ofensores"
   ]
  },
  {
   "cell_type": "code",
   "execution_count": 26,
   "metadata": {},
   "outputs": [
    {
     "name": "stdout",
     "output_type": "stream",
     "text": [
      "Dentre esses “falsos alertas” de bloqueio, os maiores ofensores foram:\n",
      "Tribunal/Sistema/Grau\n",
      "TJMS-ESAJ-1G     107\n",
      "TRT2-PJE          44\n",
      "TJTO-EPROC-2G     18\n",
      "TJMG-PJE-1G       15\n",
      "TRT11-PJE         14\n",
      "Name: count, dtype: int64\n"
     ]
    }
   ],
   "source": [
    "#Maiores ofensores\n",
    "# Contar a frequência de cada valor na coluna\n",
    "contagem_tribunal = tabela_filtrada['Tribunal/Sistema/Grau'].value_counts()\n",
    "\n",
    "# Obter os top 5 valores mais frequentes\n",
    "top_5_tribunais = contagem_tribunal.head(5)\n",
    "\n",
    "# Imprimir os top 5 valores e suas contagens\n",
    "print(f'Dentre esses “falsos alertas” de bloqueio, os maiores ofensores foram:')\n",
    "print(top_5_tribunais)\n"
   ]
  },
  {
   "cell_type": "markdown",
   "metadata": {},
   "source": [
    "○ Ordenando o top 10 tribunais prioritarios"
   ]
  },
  {
   "cell_type": "code",
   "execution_count": 27,
   "metadata": {},
   "outputs": [
    {
     "name": "stdout",
     "output_type": "stream",
     "text": [
      "Top 10 tribunais prioritários (com o maior \"delta_credential_need\")\n",
      "    database_table  delta_credential_need\n",
      "0      TJMG-PJE-2G                    396\n",
      "1         TRT2-PJE                    238\n",
      "2      TJDF-PJE-1G                    184\n",
      "3  TJPR-PROJUDI-1G                    151\n",
      "4  TJMG-PROJUDI-1G                     72\n",
      "5         TRT5-PJE                     64\n",
      "6         TRT7-PJE                     34\n",
      "7      TJDF-PJE-2G                     31\n",
      "8        TRT13-PJE                     19\n",
      "9      TST-PROP-2G                     18\n"
     ]
    }
   ],
   "source": [
    "#Ordenando o top 10 tribunais prioritarios\n",
    "\n",
    "ordenado = tabela_projecao.sort_values(by='delta_credential_need', ascending=False) #Isso organiza os dados em ordem decrescente com base na coluna \"delta_credential_need\".\n",
    "\n",
    "# Selecionar os top 10 registros com maior valor em \"delta_credential_need\"\n",
    "credenciais_prioritarias = ordenado.head(10)\n",
    "\n",
    "# Selecionar apenas as colunas \"database_table\" e \"delta_credential_need\"\n",
    "credenciais_prioritarias_filtrado = credenciais_prioritarias[['database_table', 'delta_credential_need']]\n",
    "\n",
    "# Imprimir os resultados\n",
    "print('Top 10 tribunais prioritários (com o maior \"delta_credential_need\")')\n",
    "print(credenciais_prioritarias_filtrado)\n",
    "\n"
   ]
  },
  {
   "cell_type": "code",
   "execution_count": 28,
   "metadata": {},
   "outputs": [],
   "source": [
    "#Filtrando apenas as com situação ativa\n",
    "tabela_filtrada_ativas = tabela_filtrada[tabela_filtrada['Situação da credencial no Tribunal? '] == 'Ativa']\n",
    "tabela_filtrada_ativas_antiga = tabela_filtrada_antiga[tabela_filtrada_antiga['Situação da credencial no Tribunal? '] == 'Ativa']"
   ]
  },
  {
   "cell_type": "markdown",
   "metadata": {},
   "source": [
    "○ Vendo se as credenciais dos tribunais prioritários estão no acompanhamento atual"
   ]
  },
  {
   "cell_type": "code",
   "execution_count": 29,
   "metadata": {},
   "outputs": [
    {
     "name": "stdout",
     "output_type": "stream",
     "text": [
      "        Tribunais:  quantidade\n",
      "1         TRT2-PJE          14\n",
      "2      TJDF-PJE-1G           5\n",
      "7      TJDF-PJE-2G           5\n",
      "0      TJMG-PJE-2G           0\n",
      "4  TJMG-PROJUDI-1G           0\n",
      "3  TJPR-PROJUDI-1G           0\n",
      "5         TRT5-PJE           0\n",
      "6         TRT7-PJE           0\n",
      "8        TRT13-PJE           0\n",
      "9      TST-PROP-2G           0\n"
     ]
    }
   ],
   "source": [
    "#Vendo se as credenciais dos tribunais prioritários estão no acompanhamento atual\n",
    "# Corrigir o nome das colunas se necessário\n",
    "credenciais_prioritarias_filtrado.columns = credenciais_prioritarias_filtrado.columns.str.strip()\n",
    "tabela_filtrada_ativas.columns = tabela_filtrada_ativas.columns.str.strip()\n",
    "\n",
    "# Nome das colunas com dados a serem comparados\n",
    "coluna_prioritaria = 'database_table'\n",
    "coluna_ativa = 'Tribunal/Sistema/Grau'\n",
    "\n",
    "\n",
    "\n",
    "# Obter a lista de credenciais prioritárias\n",
    "credenciais = credenciais_prioritarias_filtrado[coluna_prioritaria].unique()\n",
    "\n",
    "resultados = []\n",
    "\n",
    "# Contar quantas vezes cada credencial prioritária aparece na tabela de credenciais ativas\n",
    "for credencial in credenciais:\n",
    "    contagem = tabela_filtrada_ativas[tabela_filtrada_ativas[coluna_ativa] == credencial].shape[0]\n",
    "    resultados.append({'Tribunais:': credencial, 'quantidade': contagem})\n",
    "\n",
    "# Converter a lista de resultados em um DataFrame\n",
    "resultado_df = pd.DataFrame(resultados)\n",
    "\n",
    "# Ordenar o resultado pela quantidade em ordem decrescente\n",
    "resultado_df = resultado_df.sort_values(by='quantidade', ascending=False)\n",
    "\n",
    "# Imprimir o resultado\n",
    "print(resultado_df)"
   ]
  },
  {
   "cell_type": "markdown",
   "metadata": {},
   "source": [
    "○ Vendo se as credenciais dos tribunais prioritários estão no acompanhamento da semana passada"
   ]
  },
  {
   "cell_type": "code",
   "execution_count": 30,
   "metadata": {},
   "outputs": [
    {
     "name": "stdout",
     "output_type": "stream",
     "text": [
      "Em relação a semana passada:\n",
      "\n",
      "        Tribunais:  quantidade\n",
      "7      TJDF-PJE-2G           4\n",
      "0      TJMG-PJE-2G           0\n",
      "1         TRT2-PJE           0\n",
      "2      TJDF-PJE-1G           0\n",
      "4  TJMG-PROJUDI-1G           0\n",
      "3  TJPR-PROJUDI-1G           0\n",
      "5         TRT5-PJE           0\n",
      "6         TRT7-PJE           0\n",
      "8        TRT13-PJE           0\n",
      "9      TST-PROP-2G           0\n"
     ]
    }
   ],
   "source": [
    "#Vendo se as credenciais dos tribunais prioritários estão no acompanhamento da semana passada\n",
    "# Nome das colunas com dados a serem comparados\n",
    "coluna_prioritaria = 'database_table'\n",
    "coluna_ativa = 'Tribunal/Sistema/Grau'\n",
    "\n",
    "\n",
    "\n",
    "# Obter a lista de credenciais prioritárias\n",
    "credenciais = credenciais_prioritarias_filtrado[coluna_prioritaria].unique()\n",
    "\n",
    "resultados = []\n",
    "\n",
    "# Contar quantas vezes cada credencial prioritária aparece na tabela de credenciais ativas\n",
    "for credencial in credenciais:\n",
    "    contagem = tabela_filtrada_ativas_antiga[tabela_filtrada_ativas_antiga[coluna_ativa] == credencial].shape[0] # .shape() usado para obter o número de linhas de um DataFrame\n",
    "    resultados.append({'Tribunais:': credencial, 'quantidade': contagem})\n",
    "\n",
    "# Converter a lista de resultados em um DataFrame\n",
    "resultado_df2 = pd.DataFrame(resultados)\n",
    "\n",
    "# Ordenar o resultado pela quantidade em ordem decrescente\n",
    "resultado_df_antigo = resultado_df2.sort_values(by='quantidade', ascending=False)\n",
    "\n",
    "print(\"Em relação a semana passada:\")\n",
    "print(\"\")\n",
    "print(resultado_df_antigo)"
   ]
  },
  {
   "cell_type": "markdown",
   "metadata": {},
   "source": [
    "○"
   ]
  },
  {
   "cell_type": "code",
   "execution_count": 31,
   "metadata": {},
   "outputs": [
    {
     "name": "stdout",
     "output_type": "stream",
     "text": [
      "         Tribunais  quantidade_passada  quantidade_atual  diferenca_percentual\n",
      "1         TRT2-PJE                   4                14                 71.43\n",
      "2      TJDF-PJE-1G                   0                 5                100.00\n",
      "7      TJDF-PJE-2G                   0                 5                100.00\n",
      "0      TJMG-PJE-2G                   0                 0                  0.00\n",
      "4  TJMG-PROJUDI-1G                   0                 0                  0.00\n",
      "3  TJPR-PROJUDI-1G                   0                 0                  0.00\n",
      "5         TRT5-PJE                   0                 0                  0.00\n",
      "6         TRT7-PJE                   0                 0                  0.00\n",
      "8        TRT13-PJE                   0                 0                  0.00\n",
      "9      TST-PROP-2G                   0                 0                  0.00\n"
     ]
    }
   ],
   "source": [
    "# Verificar se os DataFrames têm o mesmo número de linhas\n",
    "if resultado_df.shape[0] != resultado_df_antigo.shape[0]:\n",
    "    raise ValueError(\"Os DataFrames não têm o mesmo número de linhas. Alinhe-os antes de comparar.\")\n",
    "\n",
    "# Verificar se as colunas existem em ambos os DataFrames\n",
    "if 'quantidade' not in resultado_df.columns or 'quantidade' not in resultado_df_antigo.columns:\n",
    "    raise ValueError(\"A coluna 'quantidade' não foi encontrada em um dos DataFrames.\")\n",
    "\n",
    "# Calcular a diferença percentual entre quantidade atual e passada\n",
    "def calcular_diferenca_percentual(atual, passada):\n",
    "    if atual == 0 and passada == 0:\n",
    "        return 0  # Evitar divisão por zero\n",
    "    elif atual == 0:\n",
    "        return -100  # Se atual é 0, a diferença percentual é -100%\n",
    "    elif passada == 0:\n",
    "        return 100  # Se passada é 0, a diferença percentual é 100%\n",
    "    else:\n",
    "        maior_num = max(atual, passada)\n",
    "        menor_num = min(atual, passada)\n",
    "        return round((maior_num - menor_num) / maior_num * 100, 2)\n",
    "        \n",
    "\n",
    "# Comparar linha por linha\n",
    "comparacao = pd.DataFrame({\n",
    "    'Tribunais': resultado_df['Tribunais:'],\n",
    "    'quantidade_passada': resultado_df_antigo['quantidade'].values,\n",
    "    'quantidade_atual': resultado_df['quantidade'],\n",
    "    'diferenca_percentual': [\n",
    "        calcular_diferenca_percentual(atual, passada)\n",
    "        for atual, passada in zip(resultado_df['quantidade'], resultado_df_antigo['quantidade'])\n",
    "    ]\n",
    "})\n",
    "\n",
    "print(comparacao)"
   ]
  },
  {
   "cell_type": "markdown",
   "metadata": {},
   "source": [
    "○ BLOQUEADAS"
   ]
  },
  {
   "cell_type": "code",
   "execution_count": 32,
   "metadata": {},
   "outputs": [
    {
     "name": "stdout",
     "output_type": "stream",
     "text": [
      "11 credenciais foi efetivamente bloqueada, representando 3.05% do total de reports para o período. .\n"
     ]
    }
   ],
   "source": [
    "#BLOQUEADAS\n",
    "quantidade_bloqueada = tabela_filtrada['Situação da credencial no Tribunal? '].value_counts().get('Bloqueada', 0) #value_counts() conta o número de vezes que cada valor aparece na coluna. get('Bloqueada', 0) retorna a contagem de \"Bloqueada\" ou 0 se \"Bloqueada\" não estiver presente.\n",
    "\n",
    "total_de_reports = tabela_filtrada['Situação da credencial no Tribunal? '].count()\n",
    "porcentagem_bloqueadas = round((quantidade_bloqueada*100)/total_de_reports,2)\n",
    "\n",
    "\n",
    "print(f'{quantidade_bloqueada} credenciais foi efetivamente bloqueada, representando {porcentagem_bloqueadas}% do total de reports para o período. .')"
   ]
  },
  {
   "cell_type": "markdown",
   "metadata": {},
   "source": [
    "○ COMPARAÇÃO EM RELAÇÃO A SEMANA PASSADA - BLOQUEADAS"
   ]
  },
  {
   "cell_type": "code",
   "execution_count": 33,
   "metadata": {},
   "outputs": [
    {
     "name": "stdout",
     "output_type": "stream",
     "text": [
      "Credenciais bloqueadas Atual: 11\n",
      "Credenciais bloqueadas Antiga: 8\n",
      "Houve um aumento de 27.27% na taxa de bloqueios, em relação à semana anterior, representada por 8 alertas  de situação da credencial no Tribunal = bloqueada\n",
      "Tribunal/Sistema/Grau\n"
     ]
    }
   ],
   "source": [
    "\n",
    "#COMPARAÇÃO EM RELAÇÃO A SEMANA PASSADA\n",
    "quantidade_bloqueadas_antiga = tabela_filtrada_antiga['Situação da credencial no Tribunal? '].value_counts().get('Bloqueada', 0) #value_counts() conta o número de vezes que cada valor aparece na coluna. get('Ativa', 0) retorna a contagem de \"Ativa\" ou 0 se \"Ativa\" não estiver presente.\n",
    "\n",
    "\n",
    "\n",
    "total_de_reports_antigos = tabela_filtrada_antiga['Situação da credencial no Tribunal? '].count()\n",
    "\n",
    "if quantidade_bloqueada < quantidade_bloqueadas_antiga:\n",
    "    maior = quantidade_bloqueadas_antiga\n",
    "    menor= quantidade_bloqueada\n",
    "    status_bloqueadas = \"uma redução\"\n",
    "    \n",
    "elif quantidade_bloqueada > quantidade_bloqueadas_antiga:\n",
    "    menor = quantidade_bloqueadas_antiga\n",
    "    maior= quantidade_bloqueada\n",
    "    status_bloqueadas = \"um aumento\"\n",
    "tabela_filtrada_antiga\n",
    "\n",
    "comparação_entre_semanas_bloqueada = round((maior - menor)/maior*100, 2)\n",
    "#\n",
    "\n",
    "print(f'Credenciais bloqueadas Atual: {quantidade_bloqueada}')\n",
    "print(f'Credenciais bloqueadas Antiga: {quantidade_bloqueadas_antiga}')\n",
    "print(f'Houve {status_bloqueadas} de {comparação_entre_semanas_bloqueada}% na taxa de bloqueios, em relação à semana anterior, representada por {quantidade_bloqueadas_antiga} alertas  de situação da credencial no Tribunal = bloqueada')\n",
    "\n",
    "\n",
    "\n",
    "\n",
    "print(coluna_ativa)\n",
    "\n"
   ]
  },
  {
   "cell_type": "markdown",
   "metadata": {},
   "source": [
    "\n",
    "○ COM RELAÇÃO AOS TRIBUNAIS PRIORITÁRIOS - BLOQUEADAS"
   ]
  },
  {
   "cell_type": "code",
   "execution_count": 34,
   "metadata": {},
   "outputs": [
    {
     "name": "stdout",
     "output_type": "stream",
     "text": [
      "Com relação aos tribunais prioritários:\n",
      "não tivemos alertas de bloqueios.\n"
     ]
    }
   ],
   "source": [
    "#COM RELAÇÃO AOS TRIBUNAIS PRIORITÁRIOS\n",
    "#credenciais_prioritarias_filtrado2 = credenciais_prioritarias_filtrado['database_table']\n",
    "\n",
    "# Obter a lista de credenciais prioritárias\n",
    "credenciais = credenciais_prioritarias_filtrado[coluna_prioritaria].unique()\n",
    "\n",
    "tabela_filtrada_bloqueada = tabela_filtrada[tabela_filtrada['Situação da credencial no Tribunal? '] == 'Bloqueada']\n",
    "\n",
    "\n",
    "\n",
    "resultados = []\n",
    "\n",
    "# Contar quantas vezes cada credencial prioritária aparece na tabela de credenciais ativas\n",
    "for credencial in credenciais:\n",
    "    contagem = tabela_filtrada_bloqueada[tabela_filtrada_bloqueada[coluna_ativa] == credencial].shape[0] # .shape() usado para obter o número de linhas de um DataFrame\n",
    "    resultados.append({'Tribunais:': credencial, 'quantidade': contagem})\n",
    "\n",
    "\n",
    "\n",
    "\n",
    "if contagem == 0:\n",
    "    print(\"Com relação aos tribunais prioritários:\")\n",
    "    resultado_df_antigo = \"não tivemos alertas de bloqueios.\"\n",
    "    print(f\"{resultado_df_antigo}\")\n",
    "else:\n",
    "    # Converter a lista de resultados em um DataFrame\n",
    "    resultado_df2 = pd.DataFrame(resultados)\n",
    "\n",
    "    # Ordenar o resultado pela quantidade em ordem decrescente\n",
    "    resultado_df_antigo = resultado_df2.sort_values(by='quantidade', ascending=False)\n",
    "    print(\"Com relação aos tribunais prioritários:\")\n",
    "    print(\"\")\n",
    "    print(resultado_df_antigo)\n",
    "\n"
   ]
  },
  {
   "cell_type": "markdown",
   "metadata": {},
   "source": [
    "○ INATIVAS"
   ]
  },
  {
   "cell_type": "code",
   "execution_count": 35,
   "metadata": {},
   "outputs": [
    {
     "name": "stdout",
     "output_type": "stream",
     "text": [
      "65 credenciais foram inativadas no período, representando 18.01 do total de reports para o período\n"
     ]
    }
   ],
   "source": [
    "quantidade_inativa = tabela_filtrada['Situação da credencial no Tribunal? '].value_counts().get('Inativa', 0) #value_counts() conta o número de vezes que cada valor aparece na coluna. get('Bloqueada', 0) retorna a contagem de \"Bloqueada\" ou 0 se \"Bloqueada\" não estiver presente.\n",
    "\n",
    "porcentagem_inativas = round((quantidade_inativa*100)/total_de_reports,2)\n",
    "\n",
    "print(f'{quantidade_inativa} credenciais foram inativadas no período, representando {porcentagem_inativas} do total de reports para o período')"
   ]
  },
  {
   "cell_type": "markdown",
   "metadata": {},
   "source": [
    "○ COMPARAÇÃO EM RELAÇÃO A SEMANA PASSADA - INATIVAS"
   ]
  },
  {
   "cell_type": "code",
   "execution_count": 36,
   "metadata": {},
   "outputs": [
    {
     "name": "stdout",
     "output_type": "stream",
     "text": [
      "Credenciais inativas Atual: 65\n",
      "Credenciais inativas Antiga: 72\n",
      "Houve uma redução de 9.72% com relação à semana anterior, em que tivemos 72 alertas  de situação da credencial no Tribunal = Inativa\n"
     ]
    }
   ],
   "source": [
    "#COMPARAÇÃO EM RELAÇÃO A SEMANA PASSADA\n",
    "quantidade_inativa_antiga = tabela_filtrada_antiga['Situação da credencial no Tribunal? '].value_counts().get('Inativa', 0) #value_counts() conta o número de vezes que cada valor aparece na coluna. get('Ativa', 0) retorna a contagem de \"Ativa\" ou 0 se \"Ativa\" não estiver presente.\n",
    "\n",
    "total_de_reports_antigos = tabela_filtrada_antiga['Situação da credencial no Tribunal? '].count()\n",
    "\n",
    "if quantidade_inativa < quantidade_inativa_antiga:\n",
    "    maior = quantidade_inativa_antiga\n",
    "    menor= quantidade_inativa\n",
    "    status_inativa = \"uma redução\"\n",
    "    \n",
    "elif quantidade_inativa > quantidade_inativa_antiga:\n",
    "    menor = quantidade_inativa_antiga\n",
    "    maior= quantidade_inativa\n",
    "    status_inativa = \"um aumento\"\n",
    "\n",
    "comparação_entre_semanas_inativas = round((maior - menor)/maior*100, 2)\n",
    "\n",
    "\n",
    "print(f'Credenciais inativas Atual: {quantidade_inativa}')\n",
    "print(f'Credenciais inativas Antiga: {quantidade_inativa_antiga}')\n",
    "print(f'Houve {status_inativa} de {comparação_entre_semanas_inativas}% com relação à semana anterior, em que tivemos {quantidade_inativa_antiga} alertas  de situação da credencial no Tribunal = Inativa')\n",
    "\n",
    "\n",
    "\n",
    "\n"
   ]
  },
  {
   "cell_type": "markdown",
   "metadata": {},
   "source": [
    "○ COM RELAÇÃO AOS TRIBUNAIS PRIORITÁRIOS - INATIVAS"
   ]
  },
  {
   "cell_type": "code",
   "execution_count": 37,
   "metadata": {},
   "outputs": [
    {
     "name": "stdout",
     "output_type": "stream",
     "text": [
      "Com relação aos tribunais prioritários:\n",
      "não tivemos alertas de inativas.\n"
     ]
    }
   ],
   "source": [
    "\n",
    "tabela_filtrada_inativa = tabela_filtrada[tabela_filtrada['Situação da credencial no Tribunal? '] == 'Inativa']\n",
    "\n",
    "resultados = []\n",
    "\n",
    "# Contar quantas vezes cada credencial prioritária aparece na tabela de credenciais ativas\n",
    "for credencial in credenciais:\n",
    "    contagem = tabela_filtrada_inativa[tabela_filtrada_inativa[coluna_ativa] == credencial].shape[0] # .shape() usado para obter o número de linhas de um DataFrame\n",
    "    resultados.append({'Tribunais:': credencial, 'quantidade': contagem})\n",
    "    \n",
    "\n",
    "\n",
    "\n",
    "\n",
    "if contagem == 0:\n",
    "    print(\"Com relação aos tribunais prioritários:\")\n",
    "    resultado_df3 = \"não tivemos alertas de inativas.\"\n",
    "    print(f\"{resultado_df3}\")\n",
    "\n",
    "else:\n",
    "    # Converter a lista de resultados em um DataFrame\n",
    "    resultado_df3 = pd.DataFrame(resultados)\n",
    "\n",
    "\n",
    "    # Ordenar o resultado pela quantidade em ordem decrescente\n",
    "    resultado_df3 = resultado_df3.sort_values(by='quantidade', ascending=False)\n",
    "    print(\"Com relação aos tribunais prioritários, tivemos:\")\n",
    "    print(resultado_df3)\n",
    "\n"
   ]
  },
  {
   "cell_type": "markdown",
   "metadata": {},
   "source": [
    "○\tINCORRETAS"
   ]
  },
  {
   "cell_type": "code",
   "execution_count": 38,
   "metadata": {},
   "outputs": [
    {
     "name": "stdout",
     "output_type": "stream",
     "text": [
      "9 credenciais tiveram alerta para senha inválida/incorreta, representando 2.49% do total de reports para o período, que foi 361.\n"
     ]
    }
   ],
   "source": [
    "quantidade_incorreta = tabela_filtrada['Situação da credencial no Tribunal? '].value_counts().get('Incorreta', 0) #value_counts() conta o número de vezes que cada valor aparece na coluna. get('Bloqueada', 0) retorna a contagem de \"Bloqueada\" ou 0 se \"Bloqueada\" não estiver presente.\n",
    "\n",
    "porcentagem_incorrentas = round((quantidade_incorreta*100)/total_de_reports,2)\n",
    "\n",
    "\n",
    "print(f\"{quantidade_incorreta} credenciais tiveram alerta para senha inválida/incorreta, representando {porcentagem_incorrentas}% do total de reports para o período, que foi {total_de_reports}.\")"
   ]
  },
  {
   "cell_type": "markdown",
   "metadata": {},
   "source": [
    "○ COMPARAÇÃO EM RELAÇÃO A SEMANA PASSADA - INCORRETAS"
   ]
  },
  {
   "cell_type": "code",
   "execution_count": 39,
   "metadata": {},
   "outputs": [
    {
     "name": "stdout",
     "output_type": "stream",
     "text": [
      "Credenciais incorretas Atual: 9\n",
      "Credenciais incorretas Antiga: 13\n",
      "Houve uma redução de 30.77% com relação à semana anterior, em que tivemos 13 alertas  de situação da credencial no Tribunal = Incorreta\n"
     ]
    }
   ],
   "source": [
    "#COMPARAÇÃO EM RELAÇÃO A SEMANA PASSADA\n",
    "quantidade_incorreta_antiga = tabela_filtrada_antiga['Situação da credencial no Tribunal? '].value_counts().get('Incorreta', 0) #value_counts() conta o número de vezes que cada valor aparece na coluna. get('Ativa', 0) retorna a contagem de \"Ativa\" ou 0 se \"Ativa\" não estiver presente.\n",
    "\n",
    "total_de_reports_antigos = tabela_filtrada_antiga['Situação da credencial no Tribunal? '].count()\n",
    "\n",
    "if quantidade_incorreta < quantidade_incorreta_antiga:\n",
    "    maior = quantidade_incorreta_antiga\n",
    "    menor= quantidade_incorreta\n",
    "    status_incorreta = \"uma redução\"\n",
    "    \n",
    "elif quantidade_incorreta > quantidade_incorreta_antiga:\n",
    "    menor = quantidade_incorreta_antiga\n",
    "    maior= quantidade_incorreta\n",
    "    status_incorreta = \"um aumento\"\n",
    "\n",
    "comparação_entre_semanas_incorreta = round((maior - menor)/maior*100, 2)\n",
    "\n",
    "\n",
    "print(f'Credenciais incorretas Atual: {quantidade_incorreta}')\n",
    "print(f'Credenciais incorretas Antiga: {quantidade_incorreta_antiga}')\n",
    "print(f'Houve {status_incorreta} de {comparação_entre_semanas_incorreta}% com relação à semana anterior, em que tivemos {quantidade_incorreta_antiga} alertas  de situação da credencial no Tribunal = Incorreta')\n"
   ]
  },
  {
   "cell_type": "markdown",
   "metadata": {},
   "source": [
    "○ COM RELAÇÃO AOS TRIBUNAIS PRIORITÁRIOS - INCORRETAS"
   ]
  },
  {
   "cell_type": "code",
   "execution_count": 40,
   "metadata": {},
   "outputs": [
    {
     "name": "stdout",
     "output_type": "stream",
     "text": [
      "Com relação aos tribunais prioritários:\n",
      "não tivemos alertas de incorretas.\n"
     ]
    }
   ],
   "source": [
    "\n",
    "# Obter a lista de credenciais prioritárias\n",
    "tabela_filtrada_incorreta = tabela_filtrada[tabela_filtrada['Situação da credencial no Tribunal? '] == 'Incorreta']\n",
    "\n",
    "resultados = []\n",
    "\n",
    "# Contar quantas vezes cada credencial prioritária aparece na tabela de credenciais ativas\n",
    "for credencial in credenciais:\n",
    "    contagem = tabela_filtrada_incorreta[tabela_filtrada_incorreta[coluna_ativa] == credencial].shape[0] # .shape() usado para obter o número de linhas de um DataFrame\n",
    "    resultados.append({'Tribunais:': credencial, 'quantidade': contagem})\n",
    "    \n",
    "\n",
    "\n",
    "\n",
    "\n",
    "if contagem == 0:\n",
    "    print(\"Com relação aos tribunais prioritários:\")\n",
    "    resultado_df4 = \"não tivemos alertas de incorretas.\"\n",
    "    print(resultado_df4)\n",
    "\n",
    "else:\n",
    "    # Converter a lista de resultados em um DataFrame\n",
    "    resultado_df3 = pd.DataFrame(resultados)\n",
    "    # Ordenar o resultado pela quantidade em ordem decrescente\n",
    "    resultado_df4 = resultado_df3.sort_values(by='quantidade', ascending=False)\n",
    "\n",
    "    print(\"Com relação aos tribunais prioritários, tivemos:\")\n",
    "    print(\"\")\n",
    "    print(resultado_df4)\n"
   ]
  },
  {
   "cell_type": "markdown",
   "metadata": {},
   "source": [
    "○\tVENCIDAS"
   ]
  },
  {
   "cell_type": "code",
   "execution_count": 41,
   "metadata": {},
   "outputs": [
    {
     "name": "stdout",
     "output_type": "stream",
     "text": [
      "7 credenciais tiveram alerta para senha vencidas, representando 1.94% do total de reports para o período, que foi 361.\n"
     ]
    }
   ],
   "source": [
    "quantidade_vencidas = tabela_filtrada['Situação da credencial no Tribunal? '].value_counts().get('Vencida/Expirada', 0) #value_counts() conta o número de vezes que cada valor aparece na coluna. get('Bloqueada', 0) retorna a contagem de \"Bloqueada\" ou 0 se \"Bloqueada\" não estiver presente.\n",
    "\n",
    "porcentagem_vencidas = round((quantidade_vencidas*100)/total_de_reports,2)\n",
    "\n",
    "\n",
    "print(f\"{quantidade_vencidas} credenciais tiveram alerta para senha vencidas, representando {porcentagem_vencidas}% do total de reports para o período, que foi {total_de_reports}.\")"
   ]
  },
  {
   "cell_type": "markdown",
   "metadata": {},
   "source": [
    "○ COMPARAÇÃO EM RELAÇÃO A SEMANA PASSADA - VENCIDAS"
   ]
  },
  {
   "cell_type": "code",
   "execution_count": 42,
   "metadata": {},
   "outputs": [
    {
     "name": "stdout",
     "output_type": "stream",
     "text": [
      "Credenciais vencidas Atual: 7\n",
      "Credenciais vencidas Antiga: 7\n",
      "Houve não mudou de 30.77% com relação à semana anterior, em que tivemos 7 alertas  de situação da credencial no Tribunal = vencida\n"
     ]
    }
   ],
   "source": [
    "#COMPARAÇÃO EM RELAÇÃO A SEMANA PASSADA\n",
    "quantidade_vencidas_antiga = tabela_filtrada_antiga['Situação da credencial no Tribunal? '].value_counts().get('Vencida/Expirada', 0) #value_counts() conta o número de vezes que cada valor aparece na coluna. get('Ativa', 0) retorna a contagem de \"Ativa\" ou 0 se \"Ativa\" não estiver presente.\n",
    "\n",
    "total_de_reports_antigos = tabela_filtrada_antiga['Situação da credencial no Tribunal? '].count()\n",
    "\n",
    "if quantidade_vencidas < quantidade_vencidas_antiga:\n",
    "    maior = quantidade_vencidas_antiga\n",
    "    menor= quantidade_vencidas\n",
    "    status_vencidas = \"uma redução\"\n",
    "    \n",
    "elif quantidade_vencidas > quantidade_vencidas_antiga:\n",
    "    menor = quantidade_vencidas_antiga\n",
    "    maior= quantidade_vencidas\n",
    "    status_vencidas = \"um aumento\"\n",
    "\n",
    "elif quantidade_vencidas == quantidade_vencidas_antiga:\n",
    "    status_vencidas = \"não mudou\"\n",
    "\n",
    "comparação_entre_semanas_vencida = round((maior - menor)/maior*100, 2)\n",
    "\n",
    "\n",
    "print(f'Credenciais vencidas Atual: {quantidade_vencidas}')\n",
    "print(f'Credenciais vencidas Antiga: {quantidade_vencidas_antiga}')\n",
    "print(f'Houve {status_vencidas} de {comparação_entre_semanas_vencida}% com relação à semana anterior, em que tivemos {quantidade_vencidas_antiga} alertas  de situação da credencial no Tribunal = vencida')\n"
   ]
  },
  {
   "cell_type": "markdown",
   "metadata": {},
   "source": [
    "○ COM RELAÇÃO AOS TRIBUNAIS PRIORITÁRIOS - VENCIDAS"
   ]
  },
  {
   "cell_type": "code",
   "execution_count": 43,
   "metadata": {},
   "outputs": [
    {
     "name": "stdout",
     "output_type": "stream",
     "text": [
      "Com relação aos tribunais prioritários:\n",
      "não tivemos alertas de vencidas.\n"
     ]
    }
   ],
   "source": [
    "# Obter a lista de credenciais prioritárias\n",
    "tabela_filtrada_vencidas = tabela_filtrada[tabela_filtrada['Situação da credencial no Tribunal? '] == 'Vencida/Expirada']\n",
    "\n",
    "resultados = []\n",
    "\n",
    "# Contar quantas vezes cada credencial prioritária aparece na tabela de credenciais ativas\n",
    "for credencial in credenciais:\n",
    "    contagem = tabela_filtrada_vencidas[tabela_filtrada_vencidas[coluna_ativa] == credencial].shape[0] # .shape() usado para obter o número de linhas de um DataFrame\n",
    "    resultados.append({'Tribunais:': credencial, 'quantidade': contagem})\n",
    "\n",
    "\n",
    "if contagem == 0:\n",
    "    print(\"Com relação aos tribunais prioritários:\")\n",
    "    resultado_df5 =\"não tivemos alertas de vencidas.\"\n",
    "    print(resultado_df5)\n",
    "\n",
    "else:\n",
    "    # Converter a lista de resultados em um DataFrame\n",
    "    resultado_df4 = pd.DataFrame(resultados)\n",
    "    # Ordenar o resultado pela quantidade em ordem decrescente\n",
    "    resultado_df5 = resultado_df4.sort_values(by='quantidade', ascending=False)\n",
    "    print(\"Com relação aos tribunais prioritários, tivemos:\")\n",
    "    \n",
    "    print(resultado_df5)"
   ]
  },
  {
   "cell_type": "code",
   "execution_count": null,
   "metadata": {},
   "outputs": [],
   "source": []
  },
  {
   "cell_type": "code",
   "execution_count": null,
   "metadata": {},
   "outputs": [],
   "source": []
  },
  {
   "cell_type": "code",
   "execution_count": null,
   "metadata": {},
   "outputs": [],
   "source": []
  },
  {
   "cell_type": "code",
   "execution_count": null,
   "metadata": {},
   "outputs": [],
   "source": []
  },
  {
   "cell_type": "code",
   "execution_count": null,
   "metadata": {},
   "outputs": [],
   "source": [
    "\n"
   ]
  },
  {
   "cell_type": "code",
   "execution_count": 44,
   "metadata": {},
   "outputs": [
    {
     "name": "stdout",
     "output_type": "stream",
     "text": [
      "c:\\Users\\saman\\Documents\\Pastas_Jus_Analise\\Fup_Automatico\\novo_venv\\Scripts\\python.exe\n"
     ]
    }
   ],
   "source": [
    "import sys\n",
    "print(sys.executable)\n"
   ]
  },
  {
   "cell_type": "markdown",
   "metadata": {},
   "source": [
    "○ INTEGRAÇÃO COM GOOGLE SHEETS"
   ]
  },
  {
   "cell_type": "markdown",
   "metadata": {},
   "source": [
    "○ TRANSFORMANDO OS DADOS EM DOC\n"
   ]
  },
  {
   "cell_type": "code",
   "execution_count": 45,
   "metadata": {},
   "outputs": [
    {
     "name": "stdout",
     "output_type": "stream",
     "text": [
      "DOCX gerado com sucesso: C:\\Users\\saman\\Downloads\\Fup_semanal.docx\n"
     ]
    }
   ],
   "source": [
    "\n",
    "\n",
    "from docx import Document\n",
    "from docx.shared import Pt\n",
    "from docx.enum.text import WD_PARAGRAPH_ALIGNMENT\n",
    "\n",
    "\n",
    "    \n",
    "# Função para criar o DOCX\n",
    "def create_docx(filename):\n",
    "    doc = Document()\n",
    "\n",
    "    # Mensagem inicial\n",
    "    intro = doc.add_paragraph(f\"Bom dia, pessoal! Tudo bem? Atualizações sobre o comportamento das credenciais no período de {data_inicio} a {data_fim}:\")\n",
    "    intro.alignment = WD_PARAGRAPH_ALIGNMENT.LEFT\n",
    "    \n",
    "\n",
    "    # Seção: Quantidade de credenciais\n",
    "    credenciais_title = doc.add_heading(\"Quantidade de credenciais\", level=2)\n",
    "    \n",
    "\n",
    "    credenciais_info = [\n",
    "        f\"● No período analisado, utilizamos {total_credenciais} credenciais diferentes (únicas) [ref]\",\n",
    "        f\"● {quantidade_linhas_unicas} credenciais diferentes receberam alerta BLOCKED pelo KM, representando {porcentagem_credenciais} do total de credenciais utilizadas\",\n",
    "        f\"● {quantidade_linhas_domains} domains requisitaram credenciais\",\n",
    "        f\"○ Domains que mais requisitaram credenciais para o período*:\",\n",
    "        f\"■ {resultado}\",\n",
    "        f\"*Obs: listagem não exaustiva, inserimos aqui apenas o top 10 domains que mais requisitaram credenciais. A listagem completa de quanto cada domain requisitou está aqui.\"\n",
    "    ]\n",
    "    \n",
    "    for line in credenciais_info:\n",
    "        doc.add_paragraph(line)\n",
    "\n",
    "    # Seção: Buscas e sessões\n",
    "    buscas_title = doc.add_heading(\"Buscas e sessões\", level=2)\n",
    "\n",
    "    buscas_info = [\n",
    "        f\"● Nossos robôs buscaram {total_buscas} vezes por credenciais e com elas realizaram {total_realizadas} sessões de uso para o período analisado [ref]\",\n",
    "        f\"○ {total_buscas_success} sessões tiveram sucesso, correspondendo a {relação_ao_total_success} do total.\",\n",
    "        f\"○{total_buscas_error} sessões tiveram erros, correspondendo a {relação_ao_total_error} do total.\",\n",
    "        f\"■ Dessas sessões com erro, tivemos {total_buscas_two_factor} sessões com erro no 2FA para:\",\n",
    "        f\"{valores_domain_alias}\",\n",
    "        \"\",\n",
    "        f\"■ Tivemos {quantidade_linhas_blocked} alertas BLOCKED de credenciais realizados pelo KM [ref]\",\n",
    "        f\"■ O volume de credenciais com alerta BLOCKED representa {relação_blocked_total} do volume total de buscas por credenciais utilizadas para o período\"\n",
    "    ]\n",
    "    \n",
    "    for line in buscas_info:\n",
    "        doc.add_paragraph(line)\n",
    "\n",
    "    # Seção: Tribunais prioritários\n",
    "    tribunais_title = doc.add_heading(\"Tribunais prioritários\", level=2)\n",
    "\n",
    "\n",
    "    tribunais_info = [\n",
    "        \"● Os 10 tribunais prioritários quanto à projeção de coleta [ref], para o período, foram:\",\n",
    "        f\"○ {maiores_delta}\",\n",
    "    \n",
    "    ]\n",
    "\n",
    "    for line in tribunais_info:\n",
    "        doc.add_paragraph(line)\n",
    "\n",
    "    # Seção: Capacidade de uso\n",
    "    capacidade_title = doc.add_heading(\"Capacidade de uso [ref]\", level=2)\n",
    "\n",
    "    capacidade_info = [\n",
    "        \"● Tribunais que faltaram credenciais e quantas precisávamos para atender a demanda de coletas:\",\n",
    "        f\"○ {filtrado_colunas}\"\n",
    "    ]\n",
    "\n",
    "    for line in capacidade_info:\n",
    "        doc.add_paragraph(line)\n",
    "\n",
    "    # Seção: Tribunais com credenciais ociosas\n",
    "    ociosas_title = doc.add_heading(\"● Tribunais com credenciais ociosas*\", level=2)\n",
    "\n",
    "    ociosas_info = [\n",
    "        f\"○ {filtrado_ociosas_df_columns} \"\n",
    "    ]\n",
    "\n",
    "    for line in ociosas_info:\n",
    "        doc.add_paragraph(line)\n",
    "\n",
    "    # Observação final\n",
    "    obs = doc.add_paragraph(\"*Obs: listagem não exaustiva. Inserimos aqui apenas domains que tínhamos credenciais, mas não precisávamos de nenhuma para o período. A listagem completa, com os valores, estão aqui.\")\n",
    "\n",
    "    # Título\n",
    "    title = doc.add_heading(\"Checagem de alertas BLOCKED\", level=1)\n",
    "\n",
    "    # Análises da checagem\n",
    "    doc.add_heading(\"● Análises da checagem\", level=2)\n",
    "\n",
    "    # Adicionar análises\n",
    "    analyses = [\n",
    "        f\"● Registramos {qtd_bloqueios_atual} alertas BLOCKED para o período de {data_inicio} a {data_fim}\",\n",
    "        f\"● Houve {status} de {comparação_entre_semanas} em relação à semana anterior, em que tivemos {qtd_bloqueios_semana_anterior} alertas\",\n",
    "        f\"● O dia com o maior número de alertas foi {dia_mais_repetido.date()}, que contou com {quantidade_repeticoes} alertas de bloqueio reativo\",\n",
    "        f\"● {contagem_externo} alertas para externos e {contagem_interno} para internos\",\n",
    "        f\"● {total_outros} alertas para pool Jusbrasil e {contagem_digesto} para pool Digesto\"\n",
    "    ]\n",
    "    for text in analyses:\n",
    "        doc.add_paragraph(text)\n",
    "        \n",
    "\n",
    "    # Top 3 parceiros\n",
    "    doc.add_heading(\"● Top 3 parceiros com maior número de alertas:\", level=2)\n",
    "    \n",
    "\n",
    "    # Criar um DataFrame a partir da série\n",
    "    df = top_3_emails.reset_index()  # Transforma a série em DataFrame\n",
    "    df.columns = ['E-mail Parceiro (KM)', 'Contagem']  # Renomeia as colunas\n",
    "\n",
    "    # Adicionar a tabela ao documento\n",
    "    table = doc.add_table(rows=1, cols=2)\n",
    "    hdr_cells = table.rows[0].cells\n",
    "    hdr_cells[0].text = \"E-mail Parceiro (KM)\"\n",
    "    hdr_cells[1].text = \"Contagem\"\n",
    "    \n",
    "    for index, row in df.iterrows():\n",
    "        row_cells = table.add_row().cells\n",
    "        row_cells[0].text = row['E-mail Parceiro (KM)']\n",
    "        row_cells[1].text = str(row['Contagem'])\n",
    "\n",
    "    # Estilo da tabela\n",
    "    for cell in table.rows[0].cells:\n",
    "        cell.paragraphs[0].runs[0].font.bold = True\n",
    "\n",
    "\n",
    "    # Seções adicionais\n",
    "    doc.add_heading(\"Ativas\", level=2)\n",
    "    active_analysis = [\n",
    "        f\"■ {quantidade_ativa} credenciais apresentaram alerta de bloqueio no KM, mas estavam ativas no tribunal, representando {porcentagem}% do total de reports para o período.\",\n",
    "        f\"■ Houve {status_ativas} de {comparação_entre_semanas_ativa} em relação à semana anterior, em que tivemos {quantidade_ativa_antiga} situação da credencial no Tribunal = ativa \",\n",
    "        f\"■\tCom relação aos tribunais prioritários do período, tivemos:\",\n",
    "        f\"{credenciais_prioritarias_filtrado}\",\n",
    "        \"\"\n",
    "        f\"■ Dentre esses “falsos alertas” de bloqueio, os maiores ofensores foram:\"\n",
    "    ]\n",
    "    \n",
    "    for analysis in active_analysis:\n",
    "        doc.add_paragraph(analysis)\n",
    "      \n",
    "    \n",
    "    # Criar um DataFrame a partir da série\n",
    "    df = top_5_tribunais.reset_index()  # Transforma a série em DataFrame\n",
    "    df.columns = ['Tribunal/Sistema/Grau', 'Contagem']  # Renomeia as colunas\n",
    "\n",
    "    # Adicionar a tabela ao documento\n",
    "    table = doc.add_table(rows=1, cols=2)\n",
    "    hdr_cells = table.rows[0].cells\n",
    "    hdr_cells[0].text = \"Tribunal/Sistema/Grau\"\n",
    "    hdr_cells[1].text = \"Contagem\"\n",
    "\n",
    "    for index, row in df.iterrows():\n",
    "        row_cells = table.add_row().cells\n",
    "        row_cells[0].text = row['Tribunal/Sistema/Grau']\n",
    "        row_cells[1].text = str(row['Contagem'])\n",
    "\n",
    "    # Estilo da tabela\n",
    "    for cell in table.rows[0].cells:\n",
    "        cell.paragraphs[0].runs[0].font.bold = True\n",
    "\n",
    "    doc.add_paragraph()  # Espaço\n",
    "\n",
    "    \n",
    "\n",
    "    # Exemplo para bloqueadas\n",
    "    doc.add_heading(\"Bloqueadas\", level=2)\n",
    "    blocked_info = [\n",
    "        f\"■ {quantidade_bloqueada} credenciais foram efetivamente bloqueada, representando {porcentagem_bloqueadas}% do total de reports para o período.\",\n",
    "        f\"■ Houve {status_bloqueadas} de {comparação_entre_semanas_bloqueada}% na taxa de bloqueios, em relação à semana anterior, representada por {quantidade_bloqueadas_antiga} alertas  de situação da credencial no Tribunal = bloqueada\",\n",
    "        f\"■ Com relação aos tribunais prioritários: {resultado_df_antigo}.\"\n",
    "    ]\n",
    "    for info in blocked_info:\n",
    "        doc.add_paragraph(info)\n",
    "        doc.add_paragraph()  # Espaço\n",
    "\n",
    "\n",
    "        # Seção Inativas\n",
    "    doc.add_heading('Inativas', level=2)\n",
    "    doc.add_paragraph(f'• {quantidade_inativa} credenciais foram inativadas no período, representando {porcentagem_inativas} do total de reports para o período.')\n",
    "    doc.add_paragraph(f'• Houve {status_inativa} de {comparação_entre_semanas_inativas}% com relação à semana anterior, em que tivemos {quantidade_inativa_antiga} alertas.')\n",
    "    doc.add_paragraph('• Com relação aos tribunais prioritários:')\n",
    "    doc.add_paragraph(f'• {resultado_df3}')\n",
    "\n",
    "    # Seção Incorretas\n",
    "    doc.add_heading('Incorretas', level=2)\n",
    "    doc.add_paragraph(f'• {quantidade_incorreta} credenciais tiveram alerta para senha inválida/incorreta, representando {porcentagem_incorrentas}% do total de reports para o período.')\n",
    "    doc.add_paragraph(f'• Houve {status_incorreta} de {comparação_entre_semanas_incorreta}% com relação à semana anterior, em que tivemos {quantidade_incorreta_antiga} alertas  de situação da credencial no Tribunal = Incorreta')\n",
    "    doc.add_paragraph(f'• Com relação aos tribunais prioritários:')\n",
    "    doc.add_paragraph(f'• {resultado_df4}')\n",
    "\n",
    "    # Seção Vencidas\n",
    "    doc.add_heading('Vencidas', level=2)\n",
    "    doc.add_paragraph(f'• {quantidade_vencidas} credenciais tiveram alerta para senha vencidas, representando {porcentagem_vencidas}% do total de reports para o período, que foi {total_de_reports}.')\n",
    "    doc.add_paragraph(f'• Houve {status_vencidas} de {comparação_entre_semanas_vencida}% com relação à semana anterior, em que tivemos {quantidade_vencidas_antiga} alertas  de situação da credencial no Tribunal = vencida.')\n",
    "    doc.add_paragraph('• Com relação aos tribunais prioritários:')\n",
    "    doc.add_paragraph(f'• {resultado_df5}')\n",
    "\n",
    "    # Finalizando o documento\n",
    "    try:\n",
    "        doc.save(filename)  # Sobrescreve o arquivo se já existir\n",
    "        print(f'DOCX gerado com sucesso: {filename}')\n",
    "    except PermissionError:\n",
    "        print(\"Erro: O arquivo está aberto em outro programa ou você não tem permissão para sobrescrever.\")\n",
    "\n",
    "# Chamada da função com o caminho especificado\n",
    "create_docx(r\"C:\\Users\\saman\\Downloads\\Fup_semanal.docx\")"
   ]
  },
  {
   "cell_type": "code",
   "execution_count": null,
   "metadata": {},
   "outputs": [],
   "source": []
  }
 ],
 "metadata": {
  "kernelspec": {
   "display_name": "Python (novo_venv)",
   "language": "python",
   "name": "novo_venv"
  },
  "language_info": {
   "codemirror_mode": {
    "name": "ipython",
    "version": 3
   },
   "file_extension": ".py",
   "mimetype": "text/x-python",
   "name": "python",
   "nbconvert_exporter": "python",
   "pygments_lexer": "ipython3",
   "version": "3.12.6"
  }
 },
 "nbformat": 4,
 "nbformat_minor": 2
}
